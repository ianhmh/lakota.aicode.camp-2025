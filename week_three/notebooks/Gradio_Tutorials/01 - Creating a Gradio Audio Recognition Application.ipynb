{
 "cells": [
  {
   "cell_type": "markdown",
   "id": "a7810ad4-145e-431b-9da4-4d25c79b7bec",
   "metadata": {},
   "source": [
    "# Creating a Gradio Web-based Application Powered by an AI Model"
   ]
  },
  {
   "cell_type": "markdown",
   "id": "09c0df6f-f199-4bc3-aba3-ca074ac7c0e2",
   "metadata": {},
   "source": [
    "## What do we have?\n",
    "\n",
    "1. A model that takes an image as an input and returns a label/category.\n",
    "2. A space on Hugging Face that can host this model and let people interact with it on the web."
   ]
  },
  {
   "cell_type": "markdown",
   "id": "b2fec239-b007-4e41-bf11-2b59edaee801",
   "metadata": {},
   "source": [
    "## What do we need to do next?\n",
    "\n",
    "1. Modify the `app.py` file for the Hugging Face repository to work with the model.\n",
    "2. Possibly collect some additional information about the categories that the model works for. Do you really want it to just return one word?\n",
    "3. Customize the Gradio application."
   ]
  },
  {
   "cell_type": "markdown",
   "id": "e7983535-7594-4b0e-a89d-d6942649d0f3",
   "metadata": {},
   "source": [
    "## Creating code for the `app.py` script to use the model\n",
    "\n",
    "I will walk through the process of creating the `app.py` script that we will need, but first we need to talk through the important parts."
   ]
  },
  {
   "cell_type": "markdown",
   "id": "fa01f1e8",
   "metadata": {},
   "source": [
    "### Parts of the base `app.py` script\n",
    "\n",
    "- **Import Statements**  \n",
    "    These are the libraries our app will need to run correctly.\n",
    "\n",
    "- **Model Loading**  \n",
    "    It's a simple line, but it is necessary.\n",
    "\n",
    "- **Necessary Python Functions**  \n",
    "    These are the functions that will convert audio recorded by the application to a spectrogram and the classify that spectrogram using our model.\n",
    "\n",
    "- **Necessary Javascript**  \n",
    "    We will need to use some javascript to make it easier for the user to record their data.\n",
    "\n",
    "- **Translation Dictionary**  \n",
    "    Our model will only output the classes as they were named when we did the training. The model used for the `[https://huggingface.co/spaces/ianhmh/lakota-color-demo](Lakota Color Demo)` outputs the categories in English, so we need to let the code know how to translate that information, and possibly attach other information to each category.\n",
    "\n",
    "- **Custom Functions/Code**  \n",
    "    You may need some custom functions to create the app you actually want, this will be a space in the code to add anything that is wanted.\n",
    "\n",
    "- **User Interface**  \n",
    "    Our user interface will be built using Gradio Blocks. These are very well documented at [https://www.gradio.app/docs], and we will look more closely at the documentation later on.}"
   ]
  },
  {
   "cell_type": "markdown",
   "id": "424c4db8",
   "metadata": {},
   "source": [
    "### **Import Statements**"
   ]
  },
  {
   "cell_type": "code",
   "execution_count": null,
   "id": "858fb56a",
   "metadata": {},
   "outputs": [],
   "source": [
    "import gradio as gr\n",
    "import numpy as np\n",
    "import torch\n",
    "import librosa\n",
    "import matplotlib.pyplot as plt\n",
    "import io\n",
    "from fastai.learner import load_learner\n",
    "from fastai.vision.all import PILImage"
   ]
  },
  {
   "cell_type": "markdown",
   "id": "e8ae8290",
   "metadata": {},
   "source": [
    "### **Model Loading**"
   ]
  },
  {
   "cell_type": "code",
   "execution_count": null,
   "id": "a97a8839",
   "metadata": {},
   "outputs": [],
   "source": [
    "# Load your model\n",
    "model = load_learner(\"model_epoch25.pkl\")"
   ]
  },
  {
   "cell_type": "markdown",
   "id": "262939ee",
   "metadata": {},
   "source": [
    "### **Necessary Python Functions**"
   ]
  },
  {
   "cell_type": "code",
   "execution_count": null,
   "id": "98af75a2",
   "metadata": {},
   "outputs": [],
   "source": [
    "# Convert audio to image\n",
    "def audio_to_melspectrogram_image(audio_data, sample_rate):\n",
    "\taudio_data = audio_data.astype(np.float32)\n",
    "\tif audio_data.ndim == 2:\n",
    "\t\taudio_data = np.mean(audio_data, axis=1)\n",
    "\n",
    "\tS = librosa.feature.melspectrogram(y=audio_data, sr=sample_rate)\n",
    "\tS_dB = librosa.power_to_db(S, ref=np.max)\n",
    "\n",
    "\tfig, ax = plt.subplots(figsize=(4, 4))\n",
    "\tax.axis('off')\n",
    "\tplt.imshow(S_dB, aspect='auto', origin='lower', cmap='viridis')\n",
    "\n",
    "\tbuf = io.BytesIO()\n",
    "\tplt.savefig(buf, format='png', bbox_inches='tight', pad_inches=0)\n",
    "\tbuf.seek(0)\n",
    "\tplt.close(fig)\n",
    "\treturn PILImage.create(buf)\n",
    "\n",
    "# Classification function\n",
    "def classify_audio(audio):\n",
    "\tif audio is None:\n",
    "\t\treturn \"No audio provided\", \"\", \"\"\n",
    "\tsample_rate, audio_data = audio\n",
    "\timage = audio_to_melspectrogram_image(audio_data, sample_rate)\n",
    "\tpred_class, pred_idx, probs = model.predict(image)\n",
    "\tprob = probs[pred_idx].item()\n",
    "\tcolor_box = f\"<div style='width:100px; height:100px; background-color:{pred_class}; border:2px solid black;'></div>\"\n",
    "\treturn f\"Predicted color: {pred_class}\", f\"Confidence: {prob:.2%}\", color_box\n",
    "\n",
    "# Dummy function for JS-only button\n",
    "def noop():\n",
    "\treturn []"
   ]
  },
  {
   "cell_type": "markdown",
   "id": "4ed508b3",
   "metadata": {},
   "source": [
    "### **Necessary Javascript**"
   ]
  },
  {
   "cell_type": "code",
   "execution_count": null,
   "id": "5c38fb95",
   "metadata": {},
   "outputs": [],
   "source": [
    "# JavaScript to support easy recording\n",
    "record_js = \"\"\"\n",
    "() => {\n",
    "\tconst inputRecBtn = document.querySelector(\"#audio_input .record-button\");\n",
    "\tconst inputStopRecBtn = document.querySelector(\"#audio_input .stop-button\");\n",
    "\n",
    "\tif (inputRecBtn) {\n",
    "\t\tinputRecBtn.click();\n",
    "\t} \n",
    "\telse if(inputStopRecBtn) {\n",
    "\t\tinputStopRecBtn.click();\n",
    "\t} else {\n",
    "\t\tconsole.log(\"Start/stop record button not found\");\n",
    "\t}\n",
    "}\n",
    "\"\"\"\n",
    "\n",
    "clear_js = \"\"\"\n",
    "() => {\n",
    "\tconst inputClearRecBtn = document.querySelector('#audio_input button[aria-label=\"Clear\"]');\n",
    "\tconst inputPlayBtn = document.querySelector('#audio_input .play-pause-button');\n",
    "\n",
    "\tif (inputPlayBtn) {\n",
    "\t\tinputClearRecBtn.click();\n",
    "\t} else {\n",
    "\t\tconsole.log(\"Clear record button not found\");\n",
    "\t}\n",
    "}\n",
    "\"\"\""
   ]
  },
  {
   "cell_type": "markdown",
   "id": "e7452a94",
   "metadata": {},
   "source": [
    "### **Translation Dictionary**\n",
    "\n",
    "Use the cell below to create your own `category_map` values."
   ]
  },
  {
   "cell_type": "code",
   "execution_count": null,
   "id": "886bd66f",
   "metadata": {},
   "outputs": [],
   "source": [
    "category_map = {\n",
    "            \"blue\": {\n",
    "                \"lakota\": \"Tho\",  \n",
    "                \"audio\": \"blue.mp3\"\n",
    "            },\n",
    "            \"red\": {\n",
    "                \"lakota\": \"Sa\",                 \n",
    "                \"audio\": \"red.mp3\"\n",
    "            },\n",
    "            \"yellow\": {\n",
    "                \"lakota\": \"Zi\",  \n",
    "                \"audio\": \"zi.mp3\"\n",
    "            }\n",
    "           }"
   ]
  },
  {
   "cell_type": "markdown",
   "id": "519bf226",
   "metadata": {},
   "source": [
    "Use the cell below to test that your `category_map` dictionary is working correctly."
   ]
  },
  {
   "cell_type": "code",
   "execution_count": null,
   "id": "be7a7304",
   "metadata": {},
   "outputs": [],
   "source": [
    "# Test category_map\n",
    "print(category_map['blue'])\n",
    "print(category_map['blue']['lakota'])\n",
    "print(category_map['blue']['audio'])"
   ]
  },
  {
   "cell_type": "markdown",
   "id": "d62994c7",
   "metadata": {},
   "source": [
    "### **User Interface**"
   ]
  },
  {
   "cell_type": "code",
   "execution_count": null,
   "id": "1158ef99",
   "metadata": {},
   "outputs": [],
   "source": [
    "# Build the Gradio app\n",
    "with gr.Blocks() as demo:\n",
    "\twith gr.Row():\n",
    "\t\tgr.Markdown(\"## 🎤 Record Audio and Predict a Color\")\n",
    "\n",
    "\twith gr.Row():\n",
    "\t\taudio_input = gr.Audio(type=\"numpy\", label=\"Recorded Audio\", elem_id=\"audio_input\", sources=[\"microphone\"], interactive=True)\n",
    "\t\n",
    "\twith gr.Row():\n",
    "\t\twith gr.Column(scale=2):\n",
    "\t\t\trecord_button = gr.Button(\"🎙️ Record Audio\")\n",
    "\t\twith gr.Column(scale=1):\n",
    "\t\t\tclear_button = gr.Button(\"Clear Recording\")\n",
    "\t\n",
    "\twith gr.Row():\n",
    "\t\twith gr.Column(scale=1):\n",
    "\t\t\tprediction_text = gr.Textbox(label=\"Prediction\", interactive=False)\n",
    "\t\twith gr.Column(scale=1):\n",
    "\t\t\tconfidence_text = gr.Textbox(label=\"Confidence\", interactive=False)\n",
    "\t\twith gr.Column(scale=1):\n",
    "\t\t\tlakota_text = gr.Textbox(label=\"Lakota\", interactive=False)\n",
    "\n",
    "\twith gr.Row():\n",
    "\t\t# JS-based button for auto-recording and clearing recording\n",
    "\t\trecord_button.click(fn=noop, js=record_js, outputs=[])\n",
    "\t\tclear_button.click(fn=noop, js=clear_js, outputs=[])\n",
    "\n",
    "\t# Audio input triggers prediction\n",
    "\taudio_input.change(fn=classify_audio,\n",
    "\t\t\t\t\t\t inputs=audio_input,\n",
    "\t\t\t\t\t\t outputs=[prediction_text, confidence_text, lakota_text])\n",
    "\n",
    "demo.launch()"
   ]
  },
  {
   "cell_type": "markdown",
   "id": "172078bc-9603-440e-b0e2-a62472032c0f",
   "metadata": {},
   "source": [
    "## The full `app.py` code:"
   ]
  },
  {
   "cell_type": "code",
   "execution_count": null,
   "id": "07d3e5a2-6dfb-4fa0-9afb-8888bcd074ba",
   "metadata": {},
   "outputs": [],
   "source": [
    "import gradio as gr\n",
    "import numpy as np\n",
    "import torch\n",
    "import librosa\n",
    "import matplotlib.pyplot as plt\n",
    "import io\n",
    "from fastai.learner import load_learner\n",
    "from fastai.vision.all import PILImage\n",
    "\n",
    "# Load your model\n",
    "model = load_learner(\"model_epoch25.pkl\")\n",
    "\n",
    "# Convert audio to image\n",
    "def audio_to_melspectrogram_image(audio_data, sample_rate):\n",
    "\taudio_data = audio_data.astype(np.float32)\n",
    "\tif audio_data.ndim == 2:\n",
    "\t\taudio_data = np.mean(audio_data, axis=1)\n",
    "\n",
    "\tS = librosa.feature.melspectrogram(y=audio_data, sr=sample_rate)\n",
    "\tS_dB = librosa.power_to_db(S, ref=np.max)\n",
    "\n",
    "\tfig, ax = plt.subplots(figsize=(4, 4))\n",
    "\tax.axis('off')\n",
    "\tplt.imshow(S_dB, aspect='auto', origin='lower', cmap='viridis')\n",
    "\n",
    "\tbuf = io.BytesIO()\n",
    "\tplt.savefig(buf, format='png', bbox_inches='tight', pad_inches=0)\n",
    "\tbuf.seek(0)\n",
    "\tplt.close(fig)\n",
    "\treturn PILImage.create(buf)\n",
    "\n",
    "# Classification function\n",
    "def classify_audio(audio):\n",
    "\tif audio is None:\n",
    "\t\treturn \"No audio provided\", \"\", \"\"\n",
    "\tsample_rate, audio_data = audio\n",
    "\timage = audio_to_melspectrogram_image(audio_data, sample_rate)\n",
    "\tpred_class, pred_idx, probs = model.predict(image)\n",
    "\tprob = probs[pred_idx].item()\n",
    "\treturn f\"Predicted Category: {pred_class}\", f\"Confidence: {prob:.2%}\", f\"Lakota: {category_map[pred_class]['lakota']}\"\n",
    "\n",
    "# Dummy function for JS-only button\n",
    "def noop():\n",
    "\treturn []\n",
    "\n",
    "# JavaScript to support easy recording\n",
    "record_js = \"\"\"\n",
    "() => {\n",
    "\tconst inputRecBtn = document.querySelector(\"#audio_input .record-button\");\n",
    "\tconst inputStopRecBtn = document.querySelector(\"#audio_input .stop-button\");\n",
    "\n",
    "\tif (inputRecBtn) {\n",
    "\t\tinputRecBtn.click();\n",
    "\t} \n",
    "\telse if(inputStopRecBtn) {\n",
    "\t\tinputStopRecBtn.click();\n",
    "\t} else {\n",
    "\t\tconsole.log(\"Start/stop record button not found\");\n",
    "\t}\n",
    "}\n",
    "\"\"\"\n",
    "\n",
    "clear_js = \"\"\"\n",
    "() => {\n",
    "\tconst inputClearRecBtn = document.querySelector('#audio_input button[aria-label=\"Clear\"]');\n",
    "\tconst inputPlayBtn = document.querySelector('#audio_input .play-pause-button');\n",
    "\n",
    "\tif (inputPlayBtn) {\n",
    "\t\tinputClearRecBtn.click();\n",
    "\t} else {\n",
    "\t\tconsole.log(\"Clear record button not found\");\n",
    "\t}\n",
    "}\n",
    "\"\"\"\n",
    "\n",
    "# Create a category map for extra information for each category\n",
    "category_map = {\n",
    "            \"blue\": {\n",
    "                \"lakota\": \"Tho\",  \n",
    "                \"audio\": \"audio_files/blue.wav\"\n",
    "            },\n",
    "            \"red\": {\n",
    "                \"lakota\": \"Sa\",                 \n",
    "                \"audio\": \"audio_files/red.wav\"\n",
    "            },\n",
    "            \"yellow\": {\n",
    "                \"lakota\": \"Zi\",  \n",
    "                \"audio\": \"audio_files/zi.wav\"\n",
    "            }\n",
    "           }\n",
    "\n",
    "# Build the Gradio app\n",
    "with gr.Blocks() as demo:\n",
    "\twith gr.Row():\n",
    "\t\tgr.Markdown(\"## 🎤 Record Audio and Predict a Color\")\n",
    "\n",
    "\twith gr.Row():\n",
    "\t\taudio_input = gr.Audio(type=\"numpy\", label=\"Recorded Audio\", elem_id=\"audio_input\", sources=[\"microphone\"], interactive=True)\n",
    "\t\n",
    "\twith gr.Row():\n",
    "\t\twith gr.Column(scale=2):\n",
    "\t\t\trecord_button = gr.Button(\"🎙️ Record Audio\")\n",
    "\t\twith gr.Column(scale=1):\n",
    "\t\t\tclear_button = gr.Button(\"Clear Recording\")\n",
    "\t\n",
    "\twith gr.Row():\n",
    "\t\twith gr.Column(scale=1):\n",
    "\t\t\tprediction_text = gr.Textbox(label=\"Prediction\", interactive=False)\n",
    "\t\twith gr.Column(scale=1):\n",
    "\t\t\tconfidence_text = gr.Textbox(label=\"Confidence\", interactive=False)\n",
    "\t\twith gr.Column(scale=1):\n",
    "\t\t\tlakota_text = gr.Textbox(label=\"Lakota\", interactive=False)\n",
    "\n",
    "\twith gr.Row():\n",
    "\t\t# JS-based button for auto-recording and clearing recording\n",
    "\t\trecord_button.click(fn=noop, js=record_js, outputs=[])\n",
    "\t\tclear_button.click(fn=noop, js=clear_js, outputs=[])\n",
    "\n",
    "\t# Audio input triggers prediction\n",
    "\taudio_input.change(fn=classify_audio,\n",
    "\t\t\t\t\t\t inputs=audio_input,\n",
    "\t\t\t\t\t\t outputs=[prediction_text, confidence_text, lakota_text])\n",
    "\n",
    "demo.launch()\n"
   ]
  },
  {
   "cell_type": "markdown",
   "id": "08a3d6f0-f1d2-432a-bac0-d2e4c882fd7e",
   "metadata": {},
   "source": [
    "## What you need to do:\n",
    "\n",
    "1. Use the code above in the `app.py` for your Hugging Face Gradio application. Copy and paste the code into that file, removing all previous code.\n",
    "\n",
    "1. Copy the `.pkl` model file that you want to use into the folder with the `app.py` script. Then rename the `path_to_pkl_model` variable to be that name of the `.pkl`. The example code above assumes that the model filename is `model_epoch25.pkl`.\n",
    "\n",
    "1. Create a new file in the `indigigenius-model-app` folder called `requirements.txt`. The text that needs to be in `requirements.txt` is in the cell below. `requirements.txt` tells the hugging face space what python packages to use. Since the `app.py` script has an import statements for many libraries, they all must be installed first."
   ]
  },
  {
   "cell_type": "code",
   "execution_count": null,
   "id": "3a3fca6b",
   "metadata": {},
   "outputs": [],
   "source": [
    "gradio>=4.4.0\n",
    "torch==1.13.1\n",
    "torchvision==0.14.1\n",
    "fastai==2.7.12\n",
    "fastcore==1.5.29\n",
    "fastdownload==0.0.7\n",
    "librosa\n",
    "numpy==1.24.4\n",
    "pandas==1.5.3\n",
    "matplotlib==3.7.1\n",
    "pillow\n",
    "scikit-learn\n",
    "timm"
   ]
  },
  {
   "attachments": {
    "image.png": {
     "image/png": "[encoded data removed]"
    }
   },
   "cell_type": "markdown",
   "id": "315ced3b",
   "metadata": {},
   "source": [
    "Once these steps are completed, the VS Code explorer and `requirements.txt` file should look like the image below.  \n",
    "  \n",
    "![image.png](attachment:image.png)\n",
    "\n",
    "Notice that the ***Source Control*** tab on the far left has the number 2 on it. This indicates that there are 2 files that need to be commited to the repository and synced.\n",
    "\n",
    "Now that you have made the changes, use the source control panel to commit the changes. \n",
    "\n",
    "***DO NOT FORGET TO INCLUDE A MESSAGE WITH THE COMMIT, VS CODE WILL HANG UP. TO RECOVER, MAKE SURE YOUR FILES ARE SAVED, CLOSE VS CODE, AND REOPEN IT.***"
   ]
  }
 ],
 "metadata": {
  "kernelspec": {
   "display_name": "base",
   "language": "python",
   "name": "python3"
  },
  "language_info": {
   "codemirror_mode": {
    "name": "ipython",
    "version": 3
   },
   "file_extension": ".py",
   "mimetype": "text/x-python",
   "name": "python",
   "nbconvert_exporter": "python",
   "pygments_lexer": "ipython3",
   "version": "3.11.7"
  }
 },
 "nbformat": 4,
 "nbformat_minor": 5
}
